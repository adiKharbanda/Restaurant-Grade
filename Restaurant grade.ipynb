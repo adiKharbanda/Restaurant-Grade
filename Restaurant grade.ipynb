{
 "cells": [
  {
   "cell_type": "markdown",
   "metadata": {},
   "source": [
    "# NYC Restaurant Grade Analysis\n",
    "\n",
    "To get a good understanding of the NYC restaurant grades dataset, I looked at the data from two perspectives: Customer and Inspector.\n",
    "\n",
    "### Customer Perspective\n",
    "From Customer perspective, I tried to answer the following questions in mind.\n",
    "\n",
    "1. Borough with most number of restaurants\n",
    "2. Most popular Cuisines across boroughs\n",
    "3. Percent of grade A, grade B, grade C restaurants in different boroughs"
   ]
  },
  {
   "cell_type": "code",
   "execution_count": 1,
   "metadata": {
    "collapsed": true
   },
   "outputs": [],
   "source": [
    "import pandas as pd\n",
    "import seaborn as sns\n",
    "%matplotlib inline"
   ]
  },
  {
   "cell_type": "code",
   "execution_count": 2,
   "metadata": {
    "collapsed": false
   },
   "outputs": [],
   "source": [
    "# read the datasets\n",
    "borough = pd.read_table('borough_names.tsv')\n",
    "cuisine = pd.read_table('cuisine_names.tsv')\n",
    "restaurant_name = pd.read_table('restaurant_names.tsv')\n",
    "restaurant_attribute = pd.read_table('restaurant_attributes.tsv')\n",
    "restaurant_violation = pd.read_table('restaurant_violations.tsv')\n",
    "violations = pd.read_table('violation_names.tsv')"
   ]
  },
  {
   "cell_type": "markdown",
   "metadata": {},
   "source": [
    "\n",
    "## Which borough has the most number of restaurants."
   ]
  },
  {
   "cell_type": "code",
   "execution_count": 3,
   "metadata": {
    "collapsed": false
   },
   "outputs": [
    {
     "data": {
      "text/html": [
       "<div>\n",
       "<table border=\"1\" class=\"dataframe\">\n",
       "  <thead>\n",
       "    <tr style=\"text-align: right;\">\n",
       "      <th></th>\n",
       "      <th>id</th>\n",
       "      <th>borough_name</th>\n",
       "      <th>restCount</th>\n",
       "    </tr>\n",
       "  </thead>\n",
       "  <tbody>\n",
       "    <tr>\n",
       "      <th>0</th>\n",
       "      <td>3</td>\n",
       "      <td>MANHATTAN</td>\n",
       "      <td>9964</td>\n",
       "    </tr>\n",
       "    <tr>\n",
       "      <th>1</th>\n",
       "      <td>2</td>\n",
       "      <td>BROOKLYN</td>\n",
       "      <td>6037</td>\n",
       "    </tr>\n",
       "    <tr>\n",
       "      <th>2</th>\n",
       "      <td>4</td>\n",
       "      <td>QUEENS</td>\n",
       "      <td>5618</td>\n",
       "    </tr>\n",
       "    <tr>\n",
       "      <th>3</th>\n",
       "      <td>1</td>\n",
       "      <td>BRONX</td>\n",
       "      <td>2271</td>\n",
       "    </tr>\n",
       "    <tr>\n",
       "      <th>4</th>\n",
       "      <td>5</td>\n",
       "      <td>STATEN ISLAND</td>\n",
       "      <td>910</td>\n",
       "    </tr>\n",
       "  </tbody>\n",
       "</table>\n",
       "</div>"
      ],
      "text/plain": [
       "   id   borough_name  restCount\n",
       "0   3      MANHATTAN       9964\n",
       "1   2       BROOKLYN       6037\n",
       "2   4         QUEENS       5618\n",
       "3   1          BRONX       2271\n",
       "4   5  STATEN ISLAND        910"
      ]
     },
     "execution_count": 3,
     "metadata": {},
     "output_type": "execute_result"
    }
   ],
   "source": [
    "\n",
    "borough_restCount=restaurant_attribute['borough_id'].value_counts()\n",
    "borough_restCount_df=pd.DataFrame({'id':borough_restCount.index, 'restCount':borough_restCount.values})\n",
    "\n",
    "borough_restCount_each=pd.merge(borough_restCount_df,borough, how = 'inner', on = 'id')\n",
    "borough_restCount_each[['id', 'borough_name', 'restCount']]\n"
   ]
  },
  {
   "cell_type": "code",
   "execution_count": 4,
   "metadata": {
    "collapsed": false
   },
   "outputs": [
    {
     "data": {
      "text/plain": [
       "<matplotlib.axes._subplots.AxesSubplot at 0xc441f60>"
      ]
     },
     "execution_count": 4,
     "metadata": {},
     "output_type": "execute_result"
    },
    {
     "data": {
      "image/png": "[encoded data removed]",
      "text/plain": [
       "<matplotlib.figure.Figure at 0xbd2be48>"
      ]
     },
     "metadata": {},
     "output_type": "display_data"
    }
   ],
   "source": [
    "sns.barplot(x='borough_name', y='restCount', data=borough_restCount_each)"
   ]
  },
  {
   "cell_type": "markdown",
   "metadata": {},
   "source": [
    "## Observations: \n",
    "Manhattan has the most number of restaurants, followed by Brooklyn, Queens, Bronx and Staten Island"
   ]
  },
  {
   "cell_type": "markdown",
   "metadata": {},
   "source": [
    "## Top 5 popular cuisines in different boroughs"
   ]
  },
  {
   "cell_type": "markdown",
   "metadata": {},
   "source": [
    "### Manhattan"
   ]
  },
  {
   "cell_type": "code",
   "execution_count": 255,
   "metadata": {
    "collapsed": false,
    "scrolled": true
   },
   "outputs": [
    {
     "data": {
      "text/html": [
       "<div>\n",
       "<table border=\"1\" class=\"dataframe\">\n",
       "  <thead>\n",
       "    <tr style=\"text-align: right;\">\n",
       "      <th></th>\n",
       "      <th>cuisine_count</th>\n",
       "      <th>cuisine_id</th>\n",
       "      <th>cuisine_description</th>\n",
       "    </tr>\n",
       "  </thead>\n",
       "  <tbody>\n",
       "    <tr>\n",
       "      <th>0</th>\n",
       "      <td>3086</td>\n",
       "      <td>3</td>\n",
       "      <td>American</td>\n",
       "    </tr>\n",
       "    <tr>\n",
       "      <th>1</th>\n",
       "      <td>820</td>\n",
       "      <td>13</td>\n",
       "      <td>CafÃ©/Coffee/Tea</td>\n",
       "    </tr>\n",
       "    <tr>\n",
       "      <th>2</th>\n",
       "      <td>596</td>\n",
       "      <td>46</td>\n",
       "      <td>Italian</td>\n",
       "    </tr>\n",
       "    <tr>\n",
       "      <th>3</th>\n",
       "      <td>486</td>\n",
       "      <td>19</td>\n",
       "      <td>Chinese</td>\n",
       "    </tr>\n",
       "    <tr>\n",
       "      <th>4</th>\n",
       "      <td>459</td>\n",
       "      <td>47</td>\n",
       "      <td>Japanese</td>\n",
       "    </tr>\n",
       "  </tbody>\n",
       "</table>\n",
       "</div>"
      ],
      "text/plain": [
       "   cuisine_count  cuisine_id cuisine_description\n",
       "0           3086           3            American\n",
       "1            820          13    CafÃ©/Coffee/Tea\n",
       "2            596          46             Italian\n",
       "3            486          19             Chinese\n",
       "4            459          47            Japanese"
      ]
     },
     "execution_count": 255,
     "metadata": {},
     "output_type": "execute_result"
    }
   ],
   "source": [
    "# Top 5 popular cuisines in Manhattan\n",
    "\n",
    "top5cuisines_manhattan=restaurant_attribute[restaurant_attribute['borough_id']==3]['cuisine_id'].value_counts().head(5)\n",
    "top5cuisines_manhattan_df = pd.DataFrame({'cuisine_id': top5cuisines_manhattan.index, 'cuisine_count':top5cuisines_manhattan.values})\n",
    "\n",
    "pd.merge(top5cuisines_manhattan_df, cuisine, how= 'inner', on = 'cuisine_id')"
   ]
  },
  {
   "cell_type": "markdown",
   "metadata": {},
   "source": [
    "### Brooklyn"
   ]
  },
  {
   "cell_type": "code",
   "execution_count": 42,
   "metadata": {
    "collapsed": false
   },
   "outputs": [
    {
     "data": {
      "text/html": [
       "<div>\n",
       "<table border=\"1\" class=\"dataframe\">\n",
       "  <thead>\n",
       "    <tr style=\"text-align: right;\">\n",
       "      <th></th>\n",
       "      <th>cuisine_count</th>\n",
       "      <th>id</th>\n",
       "      <th>cuisine_description</th>\n",
       "    </tr>\n",
       "  </thead>\n",
       "  <tbody>\n",
       "    <tr>\n",
       "      <th>0</th>\n",
       "      <td>1264</td>\n",
       "      <td>3</td>\n",
       "      <td>American</td>\n",
       "    </tr>\n",
       "    <tr>\n",
       "      <th>1</th>\n",
       "      <td>734</td>\n",
       "      <td>19</td>\n",
       "      <td>Chinese</td>\n",
       "    </tr>\n",
       "    <tr>\n",
       "      <th>2</th>\n",
       "      <td>386</td>\n",
       "      <td>13</td>\n",
       "      <td>CafÃ©/Coffee/Tea</td>\n",
       "    </tr>\n",
       "    <tr>\n",
       "      <th>3</th>\n",
       "      <td>317</td>\n",
       "      <td>16</td>\n",
       "      <td>Caribbean</td>\n",
       "    </tr>\n",
       "    <tr>\n",
       "      <th>4</th>\n",
       "      <td>297</td>\n",
       "      <td>62</td>\n",
       "      <td>Pizza</td>\n",
       "    </tr>\n",
       "  </tbody>\n",
       "</table>\n",
       "</div>"
      ],
      "text/plain": [
       "   cuisine_count  id cuisine_description\n",
       "0           1264   3            American\n",
       "1            734  19             Chinese\n",
       "2            386  13    CafÃ©/Coffee/Tea\n",
       "3            317  16           Caribbean\n",
       "4            297  62               Pizza"
      ]
     },
     "execution_count": 42,
     "metadata": {},
     "output_type": "execute_result"
    }
   ],
   "source": [
    "# Top 5 popular cuisines in Brooklyn\n",
    "\n",
    "top5cuisines_brooklyn=restaurant_attribute[restaurant_attribute['borough_id']==2]['cuisine_id'].value_counts().head(5)\n",
    "top5cuisines_brooklyn_df = pd.DataFrame({'id': top5cuisines_brooklyn.index, 'cuisine_count':top5cuisines_brooklyn.values})\n",
    "\n",
    "pd.merge(top5cuisines_brooklyn_df, cuisine, how= 'inner', on = 'id')"
   ]
  },
  {
   "cell_type": "markdown",
   "metadata": {},
   "source": [
    "### Queens"
   ]
  },
  {
   "cell_type": "code",
   "execution_count": 43,
   "metadata": {
    "collapsed": false
   },
   "outputs": [
    {
     "data": {
      "text/html": [
       "<div>\n",
       "<table border=\"1\" class=\"dataframe\">\n",
       "  <thead>\n",
       "    <tr style=\"text-align: right;\">\n",
       "      <th></th>\n",
       "      <th>cuisine_count</th>\n",
       "      <th>id</th>\n",
       "      <th>cuisine_description</th>\n",
       "    </tr>\n",
       "  </thead>\n",
       "  <tbody>\n",
       "    <tr>\n",
       "      <th>0</th>\n",
       "      <td>1013</td>\n",
       "      <td>3</td>\n",
       "      <td>American</td>\n",
       "    </tr>\n",
       "    <tr>\n",
       "      <th>1</th>\n",
       "      <td>734</td>\n",
       "      <td>19</td>\n",
       "      <td>Chinese</td>\n",
       "    </tr>\n",
       "    <tr>\n",
       "      <th>2</th>\n",
       "      <td>316</td>\n",
       "      <td>51</td>\n",
       "      <td>Latin (Cuban, Dominican, Puerto Rican, South &amp;...</td>\n",
       "    </tr>\n",
       "    <tr>\n",
       "      <th>3</th>\n",
       "      <td>280</td>\n",
       "      <td>62</td>\n",
       "      <td>Pizza</td>\n",
       "    </tr>\n",
       "    <tr>\n",
       "      <th>4</th>\n",
       "      <td>224</td>\n",
       "      <td>13</td>\n",
       "      <td>CafÃ©/Coffee/Tea</td>\n",
       "    </tr>\n",
       "  </tbody>\n",
       "</table>\n",
       "</div>"
      ],
      "text/plain": [
       "   cuisine_count  id                                cuisine_description\n",
       "0           1013   3                                           American\n",
       "1            734  19                                            Chinese\n",
       "2            316  51  Latin (Cuban, Dominican, Puerto Rican, South &...\n",
       "3            280  62                                              Pizza\n",
       "4            224  13                                   CafÃ©/Coffee/Tea"
      ]
     },
     "execution_count": 43,
     "metadata": {},
     "output_type": "execute_result"
    }
   ],
   "source": [
    "# Top 5 popular cuisines in Queens\n",
    "\n",
    "top5cuisines_queens=restaurant_attribute[restaurant_attribute['borough_id']==4]['cuisine_id'].value_counts().head(5)\n",
    "top5cuisines_queens_df = pd.DataFrame({'id': top5cuisines_queens.index, 'cuisine_count':top5cuisines_queens.values})\n",
    "\n",
    "pd.merge(top5cuisines_queens_df, cuisine, how= 'inner', on = 'id')"
   ]
  },
  {
   "cell_type": "markdown",
   "metadata": {},
   "source": [
    "### Bronx"
   ]
  },
  {
   "cell_type": "code",
   "execution_count": 44,
   "metadata": {
    "collapsed": false
   },
   "outputs": [
    {
     "data": {
      "text/html": [
       "<div>\n",
       "<table border=\"1\" class=\"dataframe\">\n",
       "  <thead>\n",
       "    <tr style=\"text-align: right;\">\n",
       "      <th></th>\n",
       "      <th>cuisine_count</th>\n",
       "      <th>id</th>\n",
       "      <th>cuisine_description</th>\n",
       "    </tr>\n",
       "  </thead>\n",
       "  <tbody>\n",
       "    <tr>\n",
       "      <th>0</th>\n",
       "      <td>425</td>\n",
       "      <td>3</td>\n",
       "      <td>American</td>\n",
       "    </tr>\n",
       "    <tr>\n",
       "      <th>1</th>\n",
       "      <td>310</td>\n",
       "      <td>19</td>\n",
       "      <td>Chinese</td>\n",
       "    </tr>\n",
       "    <tr>\n",
       "      <th>2</th>\n",
       "      <td>189</td>\n",
       "      <td>62</td>\n",
       "      <td>Pizza</td>\n",
       "    </tr>\n",
       "    <tr>\n",
       "      <th>3</th>\n",
       "      <td>178</td>\n",
       "      <td>51</td>\n",
       "      <td>Latin (Cuban, Dominican, Puerto Rican, South &amp;...</td>\n",
       "    </tr>\n",
       "    <tr>\n",
       "      <th>4</th>\n",
       "      <td>137</td>\n",
       "      <td>77</td>\n",
       "      <td>Spanish</td>\n",
       "    </tr>\n",
       "  </tbody>\n",
       "</table>\n",
       "</div>"
      ],
      "text/plain": [
       "   cuisine_count  id                                cuisine_description\n",
       "0            425   3                                           American\n",
       "1            310  19                                            Chinese\n",
       "2            189  62                                              Pizza\n",
       "3            178  51  Latin (Cuban, Dominican, Puerto Rican, South &...\n",
       "4            137  77                                            Spanish"
      ]
     },
     "execution_count": 44,
     "metadata": {},
     "output_type": "execute_result"
    }
   ],
   "source": [
    "# Top 5 popular cuisines in Bronx\n",
    "\n",
    "top5cuisines_bronx=restaurant_attribute[restaurant_attribute['borough_id']==1]['cuisine_id'].value_counts().head(5)\n",
    "top5cuisines_bronx_df = pd.DataFrame({'id': top5cuisines_bronx.index, 'cuisine_count':top5cuisines_bronx.values})\n",
    "\n",
    "pd.merge(top5cuisines_bronx_df, cuisine, how= 'inner', on = 'id')"
   ]
  },
  {
   "cell_type": "markdown",
   "metadata": {},
   "source": [
    "### Staten Island"
   ]
  },
  {
   "cell_type": "code",
   "execution_count": 45,
   "metadata": {
    "collapsed": false
   },
   "outputs": [
    {
     "data": {
      "text/html": [
       "<div>\n",
       "<table border=\"1\" class=\"dataframe\">\n",
       "  <thead>\n",
       "    <tr style=\"text-align: right;\">\n",
       "      <th></th>\n",
       "      <th>cuisine_count</th>\n",
       "      <th>id</th>\n",
       "      <th>cuisine_description</th>\n",
       "    </tr>\n",
       "  </thead>\n",
       "  <tbody>\n",
       "    <tr>\n",
       "      <th>0</th>\n",
       "      <td>226</td>\n",
       "      <td>3</td>\n",
       "      <td>American</td>\n",
       "    </tr>\n",
       "    <tr>\n",
       "      <th>1</th>\n",
       "      <td>79</td>\n",
       "      <td>19</td>\n",
       "      <td>Chinese</td>\n",
       "    </tr>\n",
       "    <tr>\n",
       "      <th>2</th>\n",
       "      <td>72</td>\n",
       "      <td>46</td>\n",
       "      <td>Italian</td>\n",
       "    </tr>\n",
       "    <tr>\n",
       "      <th>3</th>\n",
       "      <td>65</td>\n",
       "      <td>63</td>\n",
       "      <td>Pizza/Italian</td>\n",
       "    </tr>\n",
       "    <tr>\n",
       "      <th>4</th>\n",
       "      <td>53</td>\n",
       "      <td>62</td>\n",
       "      <td>Pizza</td>\n",
       "    </tr>\n",
       "  </tbody>\n",
       "</table>\n",
       "</div>"
      ],
      "text/plain": [
       "   cuisine_count  id cuisine_description\n",
       "0            226   3            American\n",
       "1             79  19             Chinese\n",
       "2             72  46             Italian\n",
       "3             65  63       Pizza/Italian\n",
       "4             53  62               Pizza"
      ]
     },
     "execution_count": 45,
     "metadata": {},
     "output_type": "execute_result"
    }
   ],
   "source": [
    "# Top 5 popular cuisines in Staten Island\n",
    "\n",
    "top5cuisines_staten=restaurant_attribute[restaurant_attribute['borough_id']==5]['cuisine_id'].value_counts().head(5)\n",
    "top5cuisines_staten_df = pd.DataFrame({'id': top5cuisines_staten.index, 'cuisine_count':top5cuisines_staten.values})\n",
    "\n",
    "pd.merge(top5cuisines_staten_df, cuisine, how= 'inner', on = 'id')"
   ]
  },
  {
   "cell_type": "markdown",
   "metadata": {},
   "source": [
    "## Observation :\n",
    "1. American is the most popular cuisine in all the boroughs\n",
    "2. Chinese is the second most preferred cuisine in most of the boroughs. "
   ]
  },
  {
   "cell_type": "markdown",
   "metadata": {},
   "source": [
    "##  Percent of grade A, grade B, grade C restaurants in different boroughs"
   ]
  },
  {
   "cell_type": "code",
   "execution_count": 267,
   "metadata": {
    "collapsed": false
   },
   "outputs": [
    {
     "data": {
      "text/html": [
       "<div>\n",
       "<table border=\"1\" class=\"dataframe\">\n",
       "  <thead>\n",
       "    <tr style=\"text-align: right;\">\n",
       "      <th></th>\n",
       "      <th>borough_name</th>\n",
       "      <th>%gradeA_rest</th>\n",
       "      <th>%gradeB_rest</th>\n",
       "      <th>%gradeC_rest</th>\n",
       "    </tr>\n",
       "  </thead>\n",
       "  <tbody>\n",
       "    <tr>\n",
       "      <th>0</th>\n",
       "      <td>BRONX</td>\n",
       "      <td>0.771864</td>\n",
       "      <td>0.165084</td>\n",
       "      <td>0.039524</td>\n",
       "    </tr>\n",
       "    <tr>\n",
       "      <th>1</th>\n",
       "      <td>BROOKLYN</td>\n",
       "      <td>0.789427</td>\n",
       "      <td>0.154326</td>\n",
       "      <td>0.037115</td>\n",
       "    </tr>\n",
       "    <tr>\n",
       "      <th>2</th>\n",
       "      <td>MANHATTAN</td>\n",
       "      <td>0.797636</td>\n",
       "      <td>0.146777</td>\n",
       "      <td>0.038717</td>\n",
       "    </tr>\n",
       "    <tr>\n",
       "      <th>3</th>\n",
       "      <td>QUEENS</td>\n",
       "      <td>0.789924</td>\n",
       "      <td>0.153998</td>\n",
       "      <td>0.038134</td>\n",
       "    </tr>\n",
       "    <tr>\n",
       "      <th>4</th>\n",
       "      <td>STATEN ISLAND</td>\n",
       "      <td>0.802031</td>\n",
       "      <td>0.147904</td>\n",
       "      <td>0.035474</td>\n",
       "    </tr>\n",
       "  </tbody>\n",
       "</table>\n",
       "</div>"
      ],
      "text/plain": [
       "    borough_name  %gradeA_rest  %gradeB_rest  %gradeC_rest\n",
       "0          BRONX      0.771864      0.165084      0.039524\n",
       "1       BROOKLYN      0.789427      0.154326      0.037115\n",
       "2      MANHATTAN      0.797636      0.146777      0.038717\n",
       "3         QUEENS      0.789924      0.153998      0.038134\n",
       "4  STATEN ISLAND      0.802031      0.147904      0.035474"
      ]
     },
     "execution_count": 267,
     "metadata": {},
     "output_type": "execute_result"
    }
   ],
   "source": [
    "# % of A,B,C grade restaurants in different boroughs\n",
    "\n",
    "\n",
    "rest_df=pd.merge(restaurant_violation, restaurant_attribute, how ='inner', on ='restaurant_id')\n",
    "rest_df = rest_df[['grade', 'borough_id']]\n",
    "\n",
    "# grade A,B,C restaurants in Borough 1 \n",
    "\n",
    "totalrest_1=rest_df[rest_df['borough_id']==1]['borough_id'].value_counts()\n",
    "gradeArest_1=sum((rest_df['borough_id']==1) & (rest_df['grade']=='A'))\n",
    "gradeBrest_1=sum((rest_df['borough_id']==1) & (rest_df['grade']=='B'))\n",
    "gradeCrest_1=sum((rest_df['borough_id']==1) & (rest_df['grade']=='C'))\n",
    "\n",
    "perc_gradeABCrest_1=pd.DataFrame({'id':1,'total_restCount': totalrest_1.values, 'gradeA_restCount': gradeArest_1, 'gradeB_restCount':gradeBrest_1, 'gradeC_restCount':gradeCrest_1})\n",
    "\n",
    "\n",
    "# grade A,B,C restaurants in Borough 2\n",
    "\n",
    "totalrest_2=rest_df[rest_df['borough_id']==2]['borough_id'].value_counts()\n",
    "gradeArest_2=sum((rest_df['borough_id']==2) & (rest_df['grade']=='A'))\n",
    "gradeBrest_2=sum((rest_df['borough_id']==2) & (rest_df['grade']=='B'))\n",
    "gradeCrest_2=sum((rest_df['borough_id']==2) & (rest_df['grade']=='C'))\n",
    "\n",
    "perc_gradeABCrest_2=pd.DataFrame({'id':2,'total_restCount': totalrest_2.values, 'gradeA_restCount': gradeArest_2, 'gradeB_restCount':gradeBrest_2, 'gradeC_restCount':gradeCrest_2})\n",
    "\n",
    "\n",
    "# grade A,B,C restaurants in Borough 3\n",
    "\n",
    "totalrest_3=rest_df[rest_df['borough_id']==3]['borough_id'].value_counts()\n",
    "gradeArest_3=sum((rest_df['borough_id']==3) & (rest_df['grade']=='A'))\n",
    "gradeBrest_3=sum((rest_df['borough_id']==3) & (rest_df['grade']=='B'))\n",
    "gradeCrest_3=sum((rest_df['borough_id']==3) & (rest_df['grade']=='C'))\n",
    "\n",
    "perc_gradeABCrest_3=pd.DataFrame({'id':3,'total_restCount': totalrest_3.values, 'gradeA_restCount': gradeArest_3, 'gradeB_restCount':gradeBrest_3, 'gradeC_restCount':gradeCrest_3})\n",
    "\n",
    "\n",
    "# grade A,B,C restaurants in Borough 4\n",
    "\n",
    "totalrest_4=rest_df[rest_df['borough_id']==4]['borough_id'].value_counts()\n",
    "gradeArest_4=sum((rest_df['borough_id']==4) & (rest_df['grade']=='A'))\n",
    "gradeBrest_4=sum((rest_df['borough_id']==4) & (rest_df['grade']=='B'))\n",
    "gradeCrest_4=sum((rest_df['borough_id']==4) & (rest_df['grade']=='C'))\n",
    "\n",
    "perc_gradeABCrest_4=pd.DataFrame({'id':4,'total_restCount': totalrest_4.values, 'gradeA_restCount': gradeArest_4, 'gradeB_restCount':gradeBrest_4, 'gradeC_restCount':gradeCrest_4})\n",
    "\n",
    "# grade A,B,C restaurants in Borough 5\n",
    "\n",
    "totalrest_5=rest_df[rest_df['borough_id']==5]['borough_id'].value_counts()\n",
    "gradeArest_5=sum((rest_df['borough_id']==5) & (rest_df['grade']=='A'))\n",
    "gradeBrest_5=sum((rest_df['borough_id']==5) & (rest_df['grade']=='B'))\n",
    "gradeCrest_5=sum((rest_df['borough_id']==5) & (rest_df['grade']=='C'))\n",
    "\n",
    "perc_gradeABCrest_5=pd.DataFrame({'id':5,'total_restCount': totalrest_5.values, 'gradeA_restCount': gradeArest_5, 'gradeB_restCount':gradeBrest_5, 'gradeC_restCount':gradeCrest_5})\n",
    "\n",
    "# grade A,B,C restaurants in all boroughs\n",
    "perc_gradeABC_rest=pd.concat([perc_gradeABCrest_1, perc_gradeABCrest_2, perc_gradeABCrest_3, perc_gradeABCrest_4, perc_gradeABCrest_5])\n",
    "perc_gradeABC_rest['%gradeA_rest']=perc_gradeABC_rest['gradeA_restCount']/perc_gradeABC_rest['total_restCount']\n",
    "perc_gradeABC_rest['%gradeB_rest']=perc_gradeABC_rest['gradeB_restCount']/perc_gradeABC_rest['total_restCount']\n",
    "perc_gradeABC_rest['%gradeC_rest']=perc_gradeABC_rest['gradeC_restCount']/perc_gradeABC_rest['total_restCount']\n",
    "\n",
    "perc_gradeABC_rest=pd.merge(perc_gradeABC_rest, borough, how ='inner', on ='id')\n",
    "perc_gradeABC_rest[['borough_name', '%gradeA_rest', '%gradeB_rest', '%gradeC_rest']]\n"
   ]
  },
  {
   "cell_type": "markdown",
   "metadata": {},
   "source": [
    " ### Inspector Perspective\n",
    " Next, from an Inspector’s perspective, I tried to find the answers to the following questions:\n",
    " \n",
    " 1. What are the top five violations in the restaurants?\n",
    " 2. Top five restauants with most number of violations?\n",
    " 3. What cuisine does the restaurant with maximum number of violations offer?\n",
    " 4. Percent of critical violations in different grade restaurants\n",
    " 5. Most common violation in grade A, grade B, grade C restuarant."
   ]
  },
  {
   "cell_type": "markdown",
   "metadata": {},
   "source": [
    "## Top five violations in the restaurants."
   ]
  },
  {
   "cell_type": "code",
   "execution_count": 62,
   "metadata": {
    "collapsed": false
   },
   "outputs": [
    {
     "data": {
      "text/html": [
       "<div>\n",
       "<table border=\"1\" class=\"dataframe\">\n",
       "  <thead>\n",
       "    <tr style=\"text-align: right;\">\n",
       "      <th></th>\n",
       "      <th>count</th>\n",
       "      <th>id</th>\n",
       "      <th>violation_description</th>\n",
       "    </tr>\n",
       "  </thead>\n",
       "  <tbody>\n",
       "    <tr>\n",
       "      <th>0</th>\n",
       "      <td>40624</td>\n",
       "      <td>44</td>\n",
       "      <td>Non-food contact surface improperly constructe...</td>\n",
       "    </tr>\n",
       "    <tr>\n",
       "      <th>1</th>\n",
       "      <td>17997</td>\n",
       "      <td>15</td>\n",
       "      <td>Facility not vermin proof. Harborage or condit...</td>\n",
       "    </tr>\n",
       "    <tr>\n",
       "      <th>2</th>\n",
       "      <td>15316</td>\n",
       "      <td>20</td>\n",
       "      <td>Food contact surface not properly washed, rins...</td>\n",
       "    </tr>\n",
       "    <tr>\n",
       "      <th>3</th>\n",
       "      <td>14889</td>\n",
       "      <td>25</td>\n",
       "      <td>Food not protected from potential source of co...</td>\n",
       "    </tr>\n",
       "    <tr>\n",
       "      <th>4</th>\n",
       "      <td>13832</td>\n",
       "      <td>47</td>\n",
       "      <td>Plumbing not properly installed or maintained;...</td>\n",
       "    </tr>\n",
       "  </tbody>\n",
       "</table>\n",
       "</div>"
      ],
      "text/plain": [
       "   count  id                              violation_description\n",
       "0  40624  44  Non-food contact surface improperly constructe...\n",
       "1  17997  15  Facility not vermin proof. Harborage or condit...\n",
       "2  15316  20  Food contact surface not properly washed, rins...\n",
       "3  14889  25  Food not protected from potential source of co...\n",
       "4  13832  47  Plumbing not properly installed or maintained;..."
      ]
     },
     "execution_count": 62,
     "metadata": {},
     "output_type": "execute_result"
    }
   ],
   "source": [
    "# Top 5 violations\n",
    "\n",
    "top5violations = restaurant_violation['violation_id'].value_counts().head()\n",
    "top5violations_df = pd.DataFrame({'id': top5violations.index, 'count':top5violations.values})\n",
    "top5violations_df\n",
    "\n",
    "pd.merge(top5violations_df, violations, how='inner', on = 'id')"
   ]
  },
  {
   "cell_type": "markdown",
   "metadata": {},
   "source": [
    "## Observation:\n",
    "'Improper construction of non food surface' is the most common type of violation amongst restaurants"
   ]
  },
  {
   "cell_type": "markdown",
   "metadata": {},
   "source": [
    "## Top five restaurants with most number of violations"
   ]
  },
  {
   "cell_type": "code",
   "execution_count": 79,
   "metadata": {
    "collapsed": false
   },
   "outputs": [
    {
     "data": {
      "text/html": [
       "<div>\n",
       "<table border=\"1\" class=\"dataframe\">\n",
       "  <thead>\n",
       "    <tr style=\"text-align: right;\">\n",
       "      <th></th>\n",
       "      <th>id</th>\n",
       "      <th>violations_count</th>\n",
       "      <th>restaurant_name</th>\n",
       "    </tr>\n",
       "  </thead>\n",
       "  <tbody>\n",
       "    <tr>\n",
       "      <th>0</th>\n",
       "      <td>54afd66dfc522ad9c6ba84cce7bf5b6f</td>\n",
       "      <td>47</td>\n",
       "      <td>GANG SAN DEUL</td>\n",
       "    </tr>\n",
       "    <tr>\n",
       "      <th>1</th>\n",
       "      <td>792bfc52116fd589a25fdd154f94d3ca</td>\n",
       "      <td>36</td>\n",
       "      <td>LA ISLA CAFE RESTAURANT</td>\n",
       "    </tr>\n",
       "    <tr>\n",
       "      <th>2</th>\n",
       "      <td>1c6653470ac500c30f5e1784f8799bb0</td>\n",
       "      <td>36</td>\n",
       "      <td>EXPRESS BROOK LUNCH RESTAURANT</td>\n",
       "    </tr>\n",
       "    <tr>\n",
       "      <th>3</th>\n",
       "      <td>06fd18c515e04943cf116d3257a4f718</td>\n",
       "      <td>35</td>\n",
       "      <td>DOJO RESTAURANT</td>\n",
       "    </tr>\n",
       "    <tr>\n",
       "      <th>4</th>\n",
       "      <td>b148d5234ec0c378e43a7e1d5e579688</td>\n",
       "      <td>35</td>\n",
       "      <td>SHERATON NEW YORK HOTEL &amp; TOWERS</td>\n",
       "    </tr>\n",
       "  </tbody>\n",
       "</table>\n",
       "</div>"
      ],
      "text/plain": [
       "                                 id  violations_count  \\\n",
       "0  54afd66dfc522ad9c6ba84cce7bf5b6f                47   \n",
       "1  792bfc52116fd589a25fdd154f94d3ca                36   \n",
       "2  1c6653470ac500c30f5e1784f8799bb0                36   \n",
       "3  06fd18c515e04943cf116d3257a4f718                35   \n",
       "4  b148d5234ec0c378e43a7e1d5e579688                35   \n",
       "\n",
       "                    restaurant_name  \n",
       "0                     GANG SAN DEUL  \n",
       "1           LA ISLA CAFE RESTAURANT  \n",
       "2    EXPRESS BROOK LUNCH RESTAURANT  \n",
       "3                   DOJO RESTAURANT  \n",
       "4  SHERATON NEW YORK HOTEL & TOWERS  "
      ]
     },
     "execution_count": 79,
     "metadata": {},
     "output_type": "execute_result"
    }
   ],
   "source": [
    "# Top 5 restaurant with most number of violations\n",
    "\n",
    "top5restaurant_maxviolations = restaurant_violation['restaurant_id'].value_counts().head()\n",
    "top5restaurant_maxviolations_df = pd.DataFrame({'id': top5restaurant_maxviolations.index , 'violations_count': top5restaurant_maxviolations.values})\n",
    "top5restaurant_maxviolations_restaurantName = pd.merge(top5restaurant_maxviolations_df, restaurant_name, how = 'inner', on = 'id')\n",
    "top5restaurant_maxviolations_restaurantName"
   ]
  },
  {
   "cell_type": "markdown",
   "metadata": {},
   "source": [
    "## What cuisine does the restaurant with maximum number of violations offer?"
   ]
  },
  {
   "cell_type": "code",
   "execution_count": 95,
   "metadata": {
    "collapsed": false
   },
   "outputs": [
    {
     "data": {
      "text/html": [
       "<div>\n",
       "<table border=\"1\" class=\"dataframe\">\n",
       "  <thead>\n",
       "    <tr style=\"text-align: right;\">\n",
       "      <th></th>\n",
       "      <th>restaurant_id</th>\n",
       "      <th>restaurant_name</th>\n",
       "      <th>violations_count</th>\n",
       "      <th>borough_id</th>\n",
       "      <th>cuisine_id</th>\n",
       "      <th>cuisine_description</th>\n",
       "    </tr>\n",
       "  </thead>\n",
       "  <tbody>\n",
       "    <tr>\n",
       "      <th>0</th>\n",
       "      <td>54afd66dfc522ad9c6ba84cce7bf5b6f</td>\n",
       "      <td>GANG SAN DEUL</td>\n",
       "      <td>47</td>\n",
       "      <td>4</td>\n",
       "      <td>50</td>\n",
       "      <td>Korean</td>\n",
       "    </tr>\n",
       "    <tr>\n",
       "      <th>1</th>\n",
       "      <td>792bfc52116fd589a25fdd154f94d3ca</td>\n",
       "      <td>LA ISLA CAFE RESTAURANT</td>\n",
       "      <td>36</td>\n",
       "      <td>3</td>\n",
       "      <td>51</td>\n",
       "      <td>Latin (Cuban, Dominican, Puerto Rican, South &amp;...</td>\n",
       "    </tr>\n",
       "    <tr>\n",
       "      <th>2</th>\n",
       "      <td>1c6653470ac500c30f5e1784f8799bb0</td>\n",
       "      <td>EXPRESS BROOK LUNCH RESTAURANT</td>\n",
       "      <td>36</td>\n",
       "      <td>1</td>\n",
       "      <td>77</td>\n",
       "      <td>Spanish</td>\n",
       "    </tr>\n",
       "    <tr>\n",
       "      <th>3</th>\n",
       "      <td>06fd18c515e04943cf116d3257a4f718</td>\n",
       "      <td>DOJO RESTAURANT</td>\n",
       "      <td>35</td>\n",
       "      <td>3</td>\n",
       "      <td>47</td>\n",
       "      <td>Japanese</td>\n",
       "    </tr>\n",
       "    <tr>\n",
       "      <th>4</th>\n",
       "      <td>b148d5234ec0c378e43a7e1d5e579688</td>\n",
       "      <td>SHERATON NEW YORK HOTEL &amp; TOWERS</td>\n",
       "      <td>35</td>\n",
       "      <td>3</td>\n",
       "      <td>3</td>\n",
       "      <td>American</td>\n",
       "    </tr>\n",
       "  </tbody>\n",
       "</table>\n",
       "</div>"
      ],
      "text/plain": [
       "                      restaurant_id                   restaurant_name  \\\n",
       "0  54afd66dfc522ad9c6ba84cce7bf5b6f                     GANG SAN DEUL   \n",
       "1  792bfc52116fd589a25fdd154f94d3ca           LA ISLA CAFE RESTAURANT   \n",
       "2  1c6653470ac500c30f5e1784f8799bb0    EXPRESS BROOK LUNCH RESTAURANT   \n",
       "3  06fd18c515e04943cf116d3257a4f718                   DOJO RESTAURANT   \n",
       "4  b148d5234ec0c378e43a7e1d5e579688  SHERATON NEW YORK HOTEL & TOWERS   \n",
       "\n",
       "   violations_count  borough_id  cuisine_id  \\\n",
       "0                47           4          50   \n",
       "1                36           3          51   \n",
       "2                36           1          77   \n",
       "3                35           3          47   \n",
       "4                35           3           3   \n",
       "\n",
       "                                 cuisine_description  \n",
       "0                                             Korean  \n",
       "1  Latin (Cuban, Dominican, Puerto Rican, South &...  \n",
       "2                                            Spanish  \n",
       "3                                           Japanese  \n",
       "4                                           American  "
      ]
     },
     "execution_count": 95,
     "metadata": {},
     "output_type": "execute_result"
    }
   ],
   "source": [
    "# What cuisine does the restaurant with maximum number of violations offer?\n",
    "\n",
    "top5restaurant_maxviolations_restaurantName = top5restaurant_maxviolations_restaurantName.rename(columns={'id':'restaurant_id'})\n",
    "top5restaurant_maxviolations_cuisine = pd.merge(top5restaurant_maxviolations_restaurantName, restaurant_attribute, how ='inner', on ='restaurant_id')\n",
    "top5restaurant_maxviolations_cuisine=top5restaurant_maxviolations_cuisine[['restaurant_id','restaurant_name', 'violations_count', 'borough_id', 'cuisine_id']]\n",
    "\n",
    "cuisine = cuisine.rename(columns={'id':'cuisine_id'})\n",
    "\n",
    "pd.merge(top5restaurant_maxviolations_cuisine, cuisine, how ='inner', on ='cuisine_id')"
   ]
  },
  {
   "cell_type": "markdown",
   "metadata": {},
   "source": [
    "## Observation:\n",
    "Korean restaurant 'Gang San Deul' in Queens borough has the maximum number of violations\n",
    "\n",
    "TODO: It is observed that same restaurant names may have different restaurant Ids and \n",
    "    hence the maximum number of violations appears different if only one is taken  into account. \n",
    "    As of now restaurant ID has been taken into consideration but we can consider both for better results.\n",
    "    "
   ]
  },
  {
   "cell_type": "markdown",
   "metadata": {},
   "source": [
    "## Percentage of critical violations in different grade restaurants"
   ]
  },
  {
   "cell_type": "code",
   "execution_count": 137,
   "metadata": {
    "collapsed": false
   },
   "outputs": [
    {
     "data": {
      "text/html": [
       "<div>\n",
       "<table border=\"1\" class=\"dataframe\">\n",
       "  <thead>\n",
       "    <tr style=\"text-align: right;\">\n",
       "      <th></th>\n",
       "      <th>grade</th>\n",
       "      <th>critical_violationcount</th>\n",
       "      <th>total_violationcount</th>\n",
       "      <th>percentviolation</th>\n",
       "    </tr>\n",
       "  </thead>\n",
       "  <tbody>\n",
       "    <tr>\n",
       "      <th>0</th>\n",
       "      <td>A</td>\n",
       "      <td>77584</td>\n",
       "      <td>160117</td>\n",
       "      <td>48.454568</td>\n",
       "    </tr>\n",
       "    <tr>\n",
       "      <th>1</th>\n",
       "      <td>B</td>\n",
       "      <td>20952</td>\n",
       "      <td>30738</td>\n",
       "      <td>68.163186</td>\n",
       "    </tr>\n",
       "    <tr>\n",
       "      <th>2</th>\n",
       "      <td>C</td>\n",
       "      <td>5201</td>\n",
       "      <td>7717</td>\n",
       "      <td>67.396657</td>\n",
       "    </tr>\n",
       "    <tr>\n",
       "      <th>3</th>\n",
       "      <td>G</td>\n",
       "      <td>4</td>\n",
       "      <td>6</td>\n",
       "      <td>66.666667</td>\n",
       "    </tr>\n",
       "    <tr>\n",
       "      <th>4</th>\n",
       "      <td>Not Yet Graded</td>\n",
       "      <td>2</td>\n",
       "      <td>8</td>\n",
       "      <td>25.000000</td>\n",
       "    </tr>\n",
       "    <tr>\n",
       "      <th>5</th>\n",
       "      <td>P</td>\n",
       "      <td>330</td>\n",
       "      <td>1367</td>\n",
       "      <td>24.140454</td>\n",
       "    </tr>\n",
       "    <tr>\n",
       "      <th>6</th>\n",
       "      <td>Z</td>\n",
       "      <td>1408</td>\n",
       "      <td>2298</td>\n",
       "      <td>61.270670</td>\n",
       "    </tr>\n",
       "  </tbody>\n",
       "</table>\n",
       "</div>"
      ],
      "text/plain": [
       "            grade  critical_violationcount  total_violationcount  \\\n",
       "0               A                    77584                160117   \n",
       "1               B                    20952                 30738   \n",
       "2               C                     5201                  7717   \n",
       "3               G                        4                     6   \n",
       "4  Not Yet Graded                        2                     8   \n",
       "5               P                      330                  1367   \n",
       "6               Z                     1408                  2298   \n",
       "\n",
       "   percentviolation  \n",
       "0         48.454568  \n",
       "1         68.163186  \n",
       "2         67.396657  \n",
       "3         66.666667  \n",
       "4         25.000000  \n",
       "5         24.140454  \n",
       "6         61.270670  "
      ]
     },
     "execution_count": 137,
     "metadata": {},
     "output_type": "execute_result"
    }
   ],
   "source": [
    "# Critical violations in different graded restaurants\n",
    "\n",
    "restgrade_totalviolations= restaurant_violation.groupby(by ='grade').violation_id.count()\n",
    "restgrade_criticalviolations = restaurant_violation[restaurant_violation['critical_flag']=='Critical'].groupby(by = 'grade').critical_flag.count()\n",
    "restgrade_criticalviolations_df=pd.DataFrame({'grade': restgrade_criticalviolations.index, 'critical_violationcount': restgrade_criticalviolations.values})\n",
    "#restgrade_criticalviolations_df[['grade', 'cv_count']]\n",
    "restgrade_totalviolations_df = pd.DataFrame({'grade': restgrade_totalviolations.index, 'total_violationcount': restgrade_totalviolations.values})\n",
    "restgrade_totalviolations_df\n",
    "\n",
    "restgrade_viol=pd.merge(restgrade_criticalviolations_df, restgrade_totalviolations_df, how ='inner', on ='grade')\n",
    "restgrade_viol=restgrade_viol[['grade', 'critical_violationcount', 'total_violationcount']]\n",
    "restgrade_viol['percentviolation']=(restgrade_viol['critical_violationcount']/restgrade_viol['total_violationcount'])*100"
   ]
  },
  {
   "cell_type": "markdown",
   "metadata": {},
   "source": [
    "## Observation:\n",
    "Grade B restaurants have the highest percentage of critical violations. "
   ]
  },
  {
   "cell_type": "markdown",
   "metadata": {},
   "source": [
    "## Most common violations in A, B, C grade restaurants"
   ]
  },
  {
   "cell_type": "code",
   "execution_count": 172,
   "metadata": {
    "collapsed": false
   },
   "outputs": [
    {
     "data": {
      "text/html": [
       "<div>\n",
       "<table border=\"1\" class=\"dataframe\">\n",
       "  <thead>\n",
       "    <tr style=\"text-align: right;\">\n",
       "      <th></th>\n",
       "      <th>grade</th>\n",
       "      <th>violation_id</th>\n",
       "      <th>violation_description</th>\n",
       "    </tr>\n",
       "  </thead>\n",
       "  <tbody>\n",
       "    <tr>\n",
       "      <th>0</th>\n",
       "      <td>A</td>\n",
       "      <td>44</td>\n",
       "      <td>Non-food contact surface improperly constructe...</td>\n",
       "    </tr>\n",
       "    <tr>\n",
       "      <th>0</th>\n",
       "      <td>B</td>\n",
       "      <td>15</td>\n",
       "      <td>Facility not vermin proof. Harborage or condit...</td>\n",
       "    </tr>\n",
       "    <tr>\n",
       "      <th>0</th>\n",
       "      <td>C</td>\n",
       "      <td>15</td>\n",
       "      <td>Facility not vermin proof. Harborage or condit...</td>\n",
       "    </tr>\n",
       "  </tbody>\n",
       "</table>\n",
       "</div>"
      ],
      "text/plain": [
       "  grade  violation_id                              violation_description\n",
       "0     A            44  Non-food contact surface improperly constructe...\n",
       "0     B            15  Facility not vermin proof. Harborage or condit...\n",
       "0     C            15  Facility not vermin proof. Harborage or condit..."
      ]
     },
     "execution_count": 172,
     "metadata": {},
     "output_type": "execute_result"
    }
   ],
   "source": [
    "# Most common violation in A, B, C grade restaurants\n",
    "\n",
    "# Most common violation in A grade restaurant\n",
    "gradeArest_violation=restaurant_violation[restaurant_violation['grade']=='A']['violation_id'].value_counts().head(1)\n",
    "gradeArest_violation_df = pd.DataFrame({'id':gradeArest_violation.index, 'count':gradeArest_violation.values})\n",
    "\n",
    "gradeArest_violation_top=pd.merge(gradeArest_violation_df, violations, how='inner', on ='id')\n",
    "gradeArest_violation_top.rename(columns={'id':'violation_id'}, inplace=True)\n",
    "gradeArest_violation_top['grade']='A'\n",
    "\n",
    "# Most common violation in B grade restaurant\n",
    "gradeBrest_violation=restaurant_violation[restaurant_violation['grade']=='B']['violation_id'].value_counts().head(1)\n",
    "gradeBrest_violation_df = pd.DataFrame({'id':gradeBrest_violation.index, 'count':gradeBrest_violation.values})\n",
    "\n",
    "gradeBrest_violation_top=pd.merge(gradeBrest_violation_df, violations, how='inner', on ='id')\n",
    "gradeBrest_violation_top.rename(columns={'id':'violation_id'}, inplace=True)\n",
    "gradeBrest_violation_top['grade']='B'\n",
    "\n",
    "# Most common violation in C grade restaurant\n",
    "gradeCrest_violation=restaurant_violation[restaurant_violation['grade']=='C']['violation_id'].value_counts().head(1)\n",
    "gradeCrest_violation_df = pd.DataFrame({'id':gradeCrest_violation.index, 'count':gradeCrest_violation.values})\n",
    "\n",
    "gradeCrest_violation_top=pd.merge(gradeCrest_violation_df, violations, how='inner', on ='id')\n",
    "gradeCrest_violation_top.rename(columns={'id':'violation_id'}, inplace=True)\n",
    "gradeCrest_violation_top['grade']='C'\n",
    "\n",
    "top_violations_ABCgradeRest=pd.concat([gradeArest_violation_top, gradeBrest_violation_top, gradeCrest_violation_top])\n",
    "top_violations_ABCgradeRest[['grade','violation_id', 'violation_description']]"
   ]
  },
  {
   "cell_type": "markdown",
   "metadata": {
    "collapsed": true
   },
   "source": [
    "## ToDo Next:\n",
    "\n",
    "* Gathering data from other record dates to analyze change in restaurant grade over time\n",
    "* Creating heat maps using zipcode in the dataset to visualize different grade restaurants in areas within a borough.\n",
    "* Currently used Tabeau for visualizations but can do this using matplot library within Python as well."
   ]
  },
  {
   "cell_type": "markdown",
   "metadata": {},
   "source": [
    "## Results:\n",
    "\n",
    "* Manhattan has the highest number of restaurants – 9964\n",
    "* American cuisine is the most popular cuisine in all five boroughs.\n",
    "* On Average, 78% of the restaurants are A grade, 15% are B grade and 4% as C grade  across all boroughs.\n",
    "* ‘Improper construction of Non food surfaces’ is the most common violation amongst the restaurants\n",
    "* Korean restaurant 'Gang San Deul' in Queens borough has the maximum number of violations.\n",
    "* Grade B restaurant has the highest percent of critical violations – 68%\n"
   ]
  }
 ],
 "metadata": {
  "kernelspec": {
   "display_name": "Python 2",
   "language": "python",
   "name": "python2"
  },
  "language_info": {
   "codemirror_mode": {
    "name": "ipython",
    "version": 2
   },
   "file_extension": ".py",
   "mimetype": "text/x-python",
   "name": "python",
   "nbconvert_exporter": "python",
   "pygments_lexer": "ipython2",
   "version": "2.7.13"
  }
 },
 "nbformat": 4,
 "nbformat_minor": 2
}
